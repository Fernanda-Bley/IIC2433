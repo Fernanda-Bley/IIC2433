{
 "cells": [
  {
   "cell_type": "code",
   "execution_count": null,
   "metadata": {},
   "outputs": [],
   "source": [
    " \n",
    "import spacy  \n",
    "from scipy.spatial.distance import cosine\n",
    "import pandas as pd\n",
    "import numpy as np\n",
    "  \n",
    "import matplotlib.pyplot as plt  \n",
    "import matplotlib.cm as cm  \n",
    "import seaborn as sns  \n",
    "    \n",
    "from sklearn.decomposition import PCA  \n",
    "from sklearn.feature_extraction.text import TfidfVectorizer\n",
    "from sklearn.model_selection import train_test_split\n",
    "from sklearn.linear_model import LogisticRegression\n",
    "from sklearn.metrics import accuracy_score, classification_report\n",
    "from sklearn.pipeline import make_pipeline\n",
    "from sklearn.feature_extraction.text import CountVectorizer\n",
    "from sklearn.tree import DecisionTreeClassifier\n",
    "from sklearn.naive_bayes import MultinomialNB\n",
    "\n",
    "#Ignora errores por el tamaño del csv que no permite hacer todas las iteraciones necesarias\n",
    "import warnings\n",
    "warnings.filterwarnings(\"ignore\")"
   ]
  },
  {
   "cell_type": "markdown",
   "metadata": {},
   "source": [
    "<center><img src=\"https://i.ibb.co/zR397jW/Tarea5-portada.png\" alt=\"Portada tarea 5\"></center>"
   ]
  },
  {
   "cell_type": "code",
   "execution_count": 2,
   "metadata": {},
   "outputs": [],
   "source": [
    "## Datos de csv, se demora a lo mucho:  16 seg por el tamaño del csv\n",
    "parlamentarios = pd.read_csv('parlamentarios_info_general.csv', delimiter=';')\n",
    "participacion = pd.read_csv('participacion_descripcion.csv')"
   ]
  },
  {
   "cell_type": "markdown",
   "metadata": {},
   "source": [
    "### Limpieza de datos"
   ]
  },
  {
   "cell_type": "code",
   "execution_count": 3,
   "metadata": {},
   "outputs": [],
   "source": [
    "# Eliminaré todos los valores innecesarios\n",
    "parla_minus = ['VIGENTE' , 'FECHA_NACIMIENTO' , 'SITIOS_WEB' , 'CAMARA_ACTUAL' , 'CAMARA' , 'INICIO' , 'FINAL' , 'UNIDAD_QUE_REPRESENTA']\n",
    "parti_minus = ['ID_PARTICIPACION' , 'TIPO_SESION' , 'FECHA', 'TIPO_PARTICIPACION' , 'CAMARA' , 'PARLAMENTARIOS', 'BOLETIN_ID', 'PARLAMENTARIOS', 'BOLETIN_ID', 'LEGISLATURA', 'SESION', 'TEXTO_ANTECEDENTE', 'DESCRIPCION_DEBATE']"
   ]
  },
  {
   "cell_type": "code",
   "execution_count": 4,
   "metadata": {},
   "outputs": [],
   "source": [
    "# Definimos los partidos\n",
    "partidos_derecha = [\n",
    "    \"Partido Unión Demócrata Independiente\",\n",
    "    \"Partido Republicano de Chile\",\n",
    "    \"Partido Renovación Nacional\",\n",
    "    \"Partido Social Cristiano\",\n",
    "    \"Partido Evolución Política (Evópoli)\",\n",
    "    \"Partido Demócratas Chile\",\n",
    "    \"Movimiento Amarillos por Chile\"\n",
    "]\n",
    "\n",
    "partidos_izquierda = [\n",
    "    \"Partido Comunista de Chile\",\n",
    "    \"Partido Por la Democracia\",\n",
    "    \"Partido Frente Amplio\",\n",
    "    \"Partido Socialista de Chile\",\n",
    "    \"Partido Radical Socialdemócrata\",\n",
    "    \"Partido Demócrata Cristiano\",\n",
    "    \"Partido Liberal de Chile\",\n",
    "    \"Federación Regionalista Verde Social\",\n",
    "    \"Partido Ecologista Verde\",\n",
    "    \"Partido Humanista\",\n",
    "    \"Partido Acción Humanista\"\n",
    "]"
   ]
  },
  {
   "cell_type": "code",
   "execution_count": 5,
   "metadata": {},
   "outputs": [],
   "source": [
    "party_mapping = {}\n",
    "\n",
    "# Partidos de izquierda serán 0\n",
    "for party in partidos_izquierda:\n",
    "    party_mapping[party] = 0\n",
    "\n",
    "# Partidos de derecha serán 1\n",
    "for party in partidos_derecha:\n",
    "    party_mapping[party] = 1\n",
    "\n",
    "# Si no es ninguno será 2\n",
    "party_mapping['default'] = 2"
   ]
  },
  {
   "cell_type": "code",
   "execution_count": 6,
   "metadata": {},
   "outputs": [],
   "source": [
    "parlamentarios['PARTIDO_POLITICO'] = parlamentarios['PARTIDO_POLITICO'].map(party_mapping).fillna(2).astype(int)"
   ]
  },
  {
   "cell_type": "code",
   "execution_count": 7,
   "metadata": {},
   "outputs": [
    {
     "data": {
      "text/html": [
       "<div>\n",
       "<style scoped>\n",
       "    .dataframe tbody tr th:only-of-type {\n",
       "        vertical-align: middle;\n",
       "    }\n",
       "\n",
       "    .dataframe tbody tr th {\n",
       "        vertical-align: top;\n",
       "    }\n",
       "\n",
       "    .dataframe thead th {\n",
       "        text-align: right;\n",
       "    }\n",
       "</style>\n",
       "<table border=\"1\" class=\"dataframe\">\n",
       "  <thead>\n",
       "    <tr style=\"text-align: right;\">\n",
       "      <th></th>\n",
       "      <th>PARLAMENTARIO_ID</th>\n",
       "      <th>NOMBRE_COMPLETO</th>\n",
       "      <th>GENERO</th>\n",
       "      <th>PARTIDO_POLITICO</th>\n",
       "    </tr>\n",
       "  </thead>\n",
       "  <tbody>\n",
       "    <tr>\n",
       "      <th>0</th>\n",
       "      <td>4611</td>\n",
       "      <td>Cristhian Moreira Barros</td>\n",
       "      <td>0</td>\n",
       "      <td>1</td>\n",
       "    </tr>\n",
       "    <tr>\n",
       "      <th>1</th>\n",
       "      <td>5209</td>\n",
       "      <td>Daniela Serrano Salazar</td>\n",
       "      <td>1</td>\n",
       "      <td>0</td>\n",
       "    </tr>\n",
       "    <tr>\n",
       "      <th>2</th>\n",
       "      <td>5194</td>\n",
       "      <td>Cristian Tapia Ramos</td>\n",
       "      <td>0</td>\n",
       "      <td>2</td>\n",
       "    </tr>\n",
       "    <tr>\n",
       "      <th>3</th>\n",
       "      <td>5203</td>\n",
       "      <td>Cristian Araya Lerdo De Tejada</td>\n",
       "      <td>0</td>\n",
       "      <td>1</td>\n",
       "    </tr>\n",
       "    <tr>\n",
       "      <th>4</th>\n",
       "      <td>4647</td>\n",
       "      <td>Cristian Labbe Martinez</td>\n",
       "      <td>0</td>\n",
       "      <td>2</td>\n",
       "    </tr>\n",
       "    <tr>\n",
       "      <th>5</th>\n",
       "      <td>5265</td>\n",
       "      <td>Cristobal Martinez Ramirez</td>\n",
       "      <td>0</td>\n",
       "      <td>1</td>\n",
       "    </tr>\n",
       "    <tr>\n",
       "      <th>6</th>\n",
       "      <td>4549</td>\n",
       "      <td>Cristobal Urruticoechea Rios</td>\n",
       "      <td>0</td>\n",
       "      <td>2</td>\n",
       "    </tr>\n",
       "    <tr>\n",
       "      <th>7</th>\n",
       "      <td>4589</td>\n",
       "      <td>Luz Eliana Ebensperger Orrego</td>\n",
       "      <td>1</td>\n",
       "      <td>1</td>\n",
       "    </tr>\n",
       "    <tr>\n",
       "      <th>8</th>\n",
       "      <td>4629</td>\n",
       "      <td>Raul Soto Mardones</td>\n",
       "      <td>0</td>\n",
       "      <td>0</td>\n",
       "    </tr>\n",
       "    <tr>\n",
       "      <th>9</th>\n",
       "      <td>4576</td>\n",
       "      <td>Maite Orsini Pascal</td>\n",
       "      <td>1</td>\n",
       "      <td>0</td>\n",
       "    </tr>\n",
       "  </tbody>\n",
       "</table>\n",
       "</div>"
      ],
      "text/plain": [
       "   PARLAMENTARIO_ID                 NOMBRE_COMPLETO  GENERO  PARTIDO_POLITICO\n",
       "0              4611        Cristhian Moreira Barros       0                 1\n",
       "1              5209         Daniela Serrano Salazar       1                 0\n",
       "2              5194            Cristian Tapia Ramos       0                 2\n",
       "3              5203  Cristian Araya Lerdo De Tejada       0                 1\n",
       "4              4647         Cristian Labbe Martinez       0                 2\n",
       "5              5265      Cristobal Martinez Ramirez       0                 1\n",
       "6              4549    Cristobal Urruticoechea Rios       0                 2\n",
       "7              4589   Luz Eliana Ebensperger Orrego       1                 1\n",
       "8              4629              Raul Soto Mardones       0                 0\n",
       "9              4576             Maite Orsini Pascal       1                 0"
      ]
     },
     "execution_count": 7,
     "metadata": {},
     "output_type": "execute_result"
    }
   ],
   "source": [
    "parlamentarios.drop(columns=parla_minus, inplace=True, errors='ignore')\n",
    "parlamentarios['GENERO'] = parlamentarios['GENERO'].replace({'M': 0, 'F': 1}).infer_objects()\n",
    "parlamentarios['GENERO'] = parlamentarios['GENERO'].astype(int)\n",
    "parlamentarios.head(10)\n"
   ]
  },
  {
   "cell_type": "code",
   "execution_count": 8,
   "metadata": {},
   "outputs": [
    {
     "data": {
      "text/html": [
       "<div>\n",
       "<style scoped>\n",
       "    .dataframe tbody tr th:only-of-type {\n",
       "        vertical-align: middle;\n",
       "    }\n",
       "\n",
       "    .dataframe tbody tr th {\n",
       "        vertical-align: top;\n",
       "    }\n",
       "\n",
       "    .dataframe thead th {\n",
       "        text-align: right;\n",
       "    }\n",
       "</style>\n",
       "<table border=\"1\" class=\"dataframe\">\n",
       "  <thead>\n",
       "    <tr style=\"text-align: right;\">\n",
       "      <th></th>\n",
       "      <th>PARLAMENTARIO_ID</th>\n",
       "      <th>TEXTO_PRINCIPAL</th>\n",
       "    </tr>\n",
       "  </thead>\n",
       "  <tbody>\n",
       "    <tr>\n",
       "      <th>0</th>\n",
       "      <td>3494</td>\n",
       "      <td>La señora ALLENDE.- \\nGracias, Presidente. \\nH...</td>\n",
       "    </tr>\n",
       "    <tr>\n",
       "      <th>1</th>\n",
       "      <td>3494</td>\n",
       "      <td>La señora ALLENDE.- \\nGracias, Presidente. \\nC...</td>\n",
       "    </tr>\n",
       "    <tr>\n",
       "      <th>2</th>\n",
       "      <td>3494</td>\n",
       "      <td>La señora ALLENDE.- \\nGracias, Presidente. \\nP...</td>\n",
       "    </tr>\n",
       "    <tr>\n",
       "      <th>3</th>\n",
       "      <td>3494</td>\n",
       "      <td>La señora ALLENDE.- \\nPresidente , yo le pedí ...</td>\n",
       "    </tr>\n",
       "    <tr>\n",
       "      <th>4</th>\n",
       "      <td>3494</td>\n",
       "      <td>La señora ALLENDE.- \\nPresidente, como ha seña...</td>\n",
       "    </tr>\n",
       "    <tr>\n",
       "      <th>5</th>\n",
       "      <td>3494</td>\n",
       "      <td>Proyecto de Acuerdo de los Honorables Senadore...</td>\n",
       "    </tr>\n",
       "    <tr>\n",
       "      <th>6</th>\n",
       "      <td>3494</td>\n",
       "      <td>La señora ALLENDE.- \\nGracias, Presidente. \\nH...</td>\n",
       "    </tr>\n",
       "    <tr>\n",
       "      <th>7</th>\n",
       "      <td>3494</td>\n",
       "      <td>-Proyecto de acuerdo de los Honorables Senador...</td>\n",
       "    </tr>\n",
       "    <tr>\n",
       "      <th>8</th>\n",
       "      <td>3494</td>\n",
       "      <td>La señora ALLENDE.- \\nGracias, Presidente. \\nC...</td>\n",
       "    </tr>\n",
       "    <tr>\n",
       "      <th>9</th>\n",
       "      <td>3494</td>\n",
       "      <td>-Proyecto de acuerdo de los Honorables Senador...</td>\n",
       "    </tr>\n",
       "  </tbody>\n",
       "</table>\n",
       "</div>"
      ],
      "text/plain": [
       "   PARLAMENTARIO_ID                                    TEXTO_PRINCIPAL\n",
       "0              3494  La señora ALLENDE.- \\nGracias, Presidente. \\nH...\n",
       "1              3494  La señora ALLENDE.- \\nGracias, Presidente. \\nC...\n",
       "2              3494  La señora ALLENDE.- \\nGracias, Presidente. \\nP...\n",
       "3              3494  La señora ALLENDE.- \\nPresidente , yo le pedí ...\n",
       "4              3494  La señora ALLENDE.- \\nPresidente, como ha seña...\n",
       "5              3494  Proyecto de Acuerdo de los Honorables Senadore...\n",
       "6              3494  La señora ALLENDE.- \\nGracias, Presidente. \\nH...\n",
       "7              3494  -Proyecto de acuerdo de los Honorables Senador...\n",
       "8              3494  La señora ALLENDE.- \\nGracias, Presidente. \\nC...\n",
       "9              3494  -Proyecto de acuerdo de los Honorables Senador..."
      ]
     },
     "execution_count": 8,
     "metadata": {},
     "output_type": "execute_result"
    }
   ],
   "source": [
    "participacion.drop(columns=parti_minus, inplace=True, errors='ignore')\n",
    "participacion.head(10)"
   ]
  },
  {
   "cell_type": "code",
   "execution_count": 9,
   "metadata": {},
   "outputs": [
    {
     "data": {
      "text/html": [
       "<div>\n",
       "<style scoped>\n",
       "    .dataframe tbody tr th:only-of-type {\n",
       "        vertical-align: middle;\n",
       "    }\n",
       "\n",
       "    .dataframe tbody tr th {\n",
       "        vertical-align: top;\n",
       "    }\n",
       "\n",
       "    .dataframe thead th {\n",
       "        text-align: right;\n",
       "    }\n",
       "</style>\n",
       "<table border=\"1\" class=\"dataframe\">\n",
       "  <thead>\n",
       "    <tr style=\"text-align: right;\">\n",
       "      <th></th>\n",
       "      <th>PARLAMENTARIO_ID</th>\n",
       "      <th>TEXTO_PRINCIPAL</th>\n",
       "      <th>GENERO</th>\n",
       "      <th>PARTIDO_POLITICO</th>\n",
       "    </tr>\n",
       "  </thead>\n",
       "  <tbody>\n",
       "    <tr>\n",
       "      <th>0</th>\n",
       "      <td>3494</td>\n",
       "      <td>La señora ALLENDE.- \\nGracias, Presidente. \\nH...</td>\n",
       "      <td>1</td>\n",
       "      <td>0</td>\n",
       "    </tr>\n",
       "    <tr>\n",
       "      <th>1</th>\n",
       "      <td>3494</td>\n",
       "      <td>La señora ALLENDE.- \\nGracias, Presidente. \\nC...</td>\n",
       "      <td>1</td>\n",
       "      <td>0</td>\n",
       "    </tr>\n",
       "    <tr>\n",
       "      <th>2</th>\n",
       "      <td>3494</td>\n",
       "      <td>La señora ALLENDE.- \\nGracias, Presidente. \\nP...</td>\n",
       "      <td>1</td>\n",
       "      <td>0</td>\n",
       "    </tr>\n",
       "    <tr>\n",
       "      <th>3</th>\n",
       "      <td>3494</td>\n",
       "      <td>La señora ALLENDE.- \\nPresidente , yo le pedí ...</td>\n",
       "      <td>1</td>\n",
       "      <td>0</td>\n",
       "    </tr>\n",
       "    <tr>\n",
       "      <th>4</th>\n",
       "      <td>3494</td>\n",
       "      <td>La señora ALLENDE.- \\nPresidente, como ha seña...</td>\n",
       "      <td>1</td>\n",
       "      <td>0</td>\n",
       "    </tr>\n",
       "    <tr>\n",
       "      <th>...</th>\n",
       "      <td>...</td>\n",
       "      <td>...</td>\n",
       "      <td>...</td>\n",
       "      <td>...</td>\n",
       "    </tr>\n",
       "    <tr>\n",
       "      <th>245745</th>\n",
       "      <td>4622</td>\n",
       "      <td>-Asistieron 151 señores diputados, de los 155 ...</td>\n",
       "      <td>1</td>\n",
       "      <td>0</td>\n",
       "    </tr>\n",
       "    <tr>\n",
       "      <th>245746</th>\n",
       "      <td>4622</td>\n",
       "      <td>-Asistieron 154 señores diputados, de los 155 ...</td>\n",
       "      <td>1</td>\n",
       "      <td>0</td>\n",
       "    </tr>\n",
       "    <tr>\n",
       "      <th>245747</th>\n",
       "      <td>4622</td>\n",
       "      <td>El señor MULET (Vicepresidente).- \\n \\n Tiene ...</td>\n",
       "      <td>1</td>\n",
       "      <td>0</td>\n",
       "    </tr>\n",
       "    <tr>\n",
       "      <th>245748</th>\n",
       "      <td>4622</td>\n",
       "      <td>-Asistieron 151 señores diputados, de los 155 ...</td>\n",
       "      <td>1</td>\n",
       "      <td>0</td>\n",
       "    </tr>\n",
       "    <tr>\n",
       "      <th>245749</th>\n",
       "      <td>4622</td>\n",
       "      <td>-Asistieron 150 señores diputados, de los 155 ...</td>\n",
       "      <td>1</td>\n",
       "      <td>0</td>\n",
       "    </tr>\n",
       "  </tbody>\n",
       "</table>\n",
       "<p>245750 rows × 4 columns</p>\n",
       "</div>"
      ],
      "text/plain": [
       "        PARLAMENTARIO_ID                                    TEXTO_PRINCIPAL  \\\n",
       "0                   3494  La señora ALLENDE.- \\nGracias, Presidente. \\nH...   \n",
       "1                   3494  La señora ALLENDE.- \\nGracias, Presidente. \\nC...   \n",
       "2                   3494  La señora ALLENDE.- \\nGracias, Presidente. \\nP...   \n",
       "3                   3494  La señora ALLENDE.- \\nPresidente , yo le pedí ...   \n",
       "4                   3494  La señora ALLENDE.- \\nPresidente, como ha seña...   \n",
       "...                  ...                                                ...   \n",
       "245745              4622  -Asistieron 151 señores diputados, de los 155 ...   \n",
       "245746              4622  -Asistieron 154 señores diputados, de los 155 ...   \n",
       "245747              4622  El señor MULET (Vicepresidente).- \\n \\n Tiene ...   \n",
       "245748              4622  -Asistieron 151 señores diputados, de los 155 ...   \n",
       "245749              4622  -Asistieron 150 señores diputados, de los 155 ...   \n",
       "\n",
       "        GENERO  PARTIDO_POLITICO  \n",
       "0            1                 0  \n",
       "1            1                 0  \n",
       "2            1                 0  \n",
       "3            1                 0  \n",
       "4            1                 0  \n",
       "...        ...               ...  \n",
       "245745       1                 0  \n",
       "245746       1                 0  \n",
       "245747       1                 0  \n",
       "245748       1                 0  \n",
       "245749       1                 0  \n",
       "\n",
       "[245750 rows x 4 columns]"
      ]
     },
     "execution_count": 9,
     "metadata": {},
     "output_type": "execute_result"
    }
   ],
   "source": [
    "# Ahora lo uniremos para poder hacer las predicciones\n",
    "final = pd.merge(participacion, parlamentarios[['PARLAMENTARIO_ID', 'GENERO', 'PARTIDO_POLITICO']], on='PARLAMENTARIO_ID', how='left')\n",
    "final['TEXTO_PRINCIPAL'] = final['TEXTO_PRINCIPAL'].fillna('')\n",
    "final\n"
   ]
  },
  {
   "cell_type": "markdown",
   "metadata": {},
   "source": [
    "# Parte 1. model_gen de género \n",
    "Debes implementar un model_gen que reciba un string y determine si\n",
    "ese string corresponde a un discurso hecho por un hombre o una mujer. Para esto puedes usar cualquiera de\n",
    "los métodos y algoritmos vistos en clases, pero no puedes usar algo que no hayamos visto. Tu model_gen\n",
    "debe ser implementado mediante una clase ClasText con dós metodos:\n",
    "Un método fit, que recibe una lista o un array de strings X, y una lista, array o series y que solo\n",
    "contiene números 0 o 1. Este método entrena un model_gen que puede predecir si un string dado debe\n",
    "ser etiquetado como 0 o 1, en base a lo visto en el entrenamiento.\n",
    "Un método predict, que recibe una lista o un array de strings X, y entrega una lista o un array de\n",
    "números 0 o 1 del mismo tamaño que X.\n"
   ]
  },
  {
   "cell_type": "code",
   "execution_count": 10,
   "metadata": {},
   "outputs": [],
   "source": [
    "# Creamos ClasText\n",
    "class ClasText:\n",
    "    def __init__(self):\n",
    "        self.model = make_pipeline(TfidfVectorizer(), LogisticRegression(max_iter=245749))\n",
    "    \n",
    "    def fit(self, X, y):\n",
    "        self.model.fit(X, y)\n",
    "    \n",
    "    def predict(self, X):\n",
    "        return self.model.predict(X)"
   ]
  },
  {
   "cell_type": "code",
   "execution_count": 11,
   "metadata": {},
   "outputs": [],
   "source": [
    "model_gen = ClasText()"
   ]
  },
  {
   "cell_type": "code",
   "execution_count": 12,
   "metadata": {},
   "outputs": [],
   "source": [
    "# Ahora X_gen será la nueva columna de texto combinado. demora a lo mucho:  en correr 1 minuto y 15 seg.\n",
    "\n",
    "X_gen = final['TEXTO_PRINCIPAL']\n",
    "y = final['GENERO']\n",
    "\n",
    "X_train_genero, X_test_gen, y_train_gen, y_test_gen = train_test_split(X_gen, y, test_size=0.3, random_state=42)\n",
    "\n",
    "model_gen.fit(X_train_genero , y_train_gen)"
   ]
  },
  {
   "cell_type": "code",
   "execution_count": 13,
   "metadata": {},
   "outputs": [],
   "source": [
    "# La celda demora a lo mucho:  30s\n",
    "y_pred = model_gen.predict(X_test_gen)"
   ]
  },
  {
   "cell_type": "markdown",
   "metadata": {},
   "source": [
    "# Parte 2. Análisis \n",
    "Contesta usando las herramientas vistas en clases: ¿Cómo es el rendimiento de tu\n",
    "model_gen? Prueba ahora otros dos clasificadores distintos, usando otros algoritmos u otras formas de\n",
    "procesar texto. ¿Mejora el rendimiento?"
   ]
  },
  {
   "cell_type": "code",
   "execution_count": 14,
   "metadata": {},
   "outputs": [
    {
     "name": "stdout",
     "output_type": "stream",
     "text": [
      "              precision    recall  f1-score   support\n",
      "\n",
      "           0       0.88      0.95      0.91     53428\n",
      "           1       0.83      0.66      0.74     20297\n",
      "\n",
      "    accuracy                           0.87     73725\n",
      "   macro avg       0.86      0.81      0.83     73725\n",
      "weighted avg       0.87      0.87      0.87     73725\n",
      "\n"
     ]
    }
   ],
   "source": [
    "class_report = classification_report(y_test_gen, y_pred)\n",
    "print(class_report)"
   ]
  },
  {
   "cell_type": "markdown",
   "metadata": {},
   "source": [
    "Se comporta de una manera bastante buena. Tiene una precisión y recall alta. Es mejor para predecir hombres que mujeres. "
   ]
  },
  {
   "cell_type": "markdown",
   "metadata": {},
   "source": [
    "### Comparación 1: MultinomialNB y TfidVectorizer\n",
    "\n",
    "El [MultinomalNB](https://www.geeksforgeeks.org/multinomial-naive-bayes/) porque...\n",
    "Mantendré TfidVectorizaer para transformar texto a vectores. \n",
    "Este nuevo modelo busca ver si es que el culpable de las inexactitudes es el ```LogisticRegression```"
   ]
  },
  {
   "cell_type": "code",
   "execution_count": 15,
   "metadata": {},
   "outputs": [],
   "source": [
    "## Usaré MultinomialNB. Retirado de: # \n",
    "## Nuevamente para traducir, usaré TfidVectorizer\n",
    "class Compare1:\n",
    "    def __init__(self):\n",
    "        self.model = make_pipeline(TfidfVectorizer(), MultinomialNB())\n",
    "    \n",
    "    def fit(self, X, y):\n",
    "        self.model.fit(X, y)\n",
    "    \n",
    "    def predict(self, X):\n",
    "        return self.model.predict(X)"
   ]
  },
  {
   "cell_type": "code",
   "execution_count": 16,
   "metadata": {},
   "outputs": [],
   "source": [
    "# La celda se demora a lo mucho:  1 min y 10 seg\n",
    "clasificador_2 = Compare1()\n",
    "\n",
    "clasificador_2.fit(X_train_genero, y_train_gen)"
   ]
  },
  {
   "cell_type": "code",
   "execution_count": 17,
   "metadata": {},
   "outputs": [
    {
     "name": "stdout",
     "output_type": "stream",
     "text": [
      "              precision    recall  f1-score   support\n",
      "\n",
      "           0       0.74      0.99      0.85     53428\n",
      "           1       0.79      0.09      0.16     20297\n",
      "\n",
      "    accuracy                           0.74     73725\n",
      "   macro avg       0.76      0.54      0.50     73725\n",
      "weighted avg       0.75      0.74      0.66     73725\n",
      "\n"
     ]
    }
   ],
   "source": [
    "y_pred_2 = clasificador_2.predict(X_test_gen)\n",
    "class_report = classification_report(y_test_gen, y_pred_2)\n",
    "print(class_report)"
   ]
  },
  {
   "cell_type": "markdown",
   "metadata": {},
   "source": [
    "Vemos que al cambiar de ```LogisticRegression``` a ```MultinomialNB``` empeora la calidad del model_gen. Así que no es el culpable de las inexactitudes. "
   ]
  },
  {
   "cell_type": "markdown",
   "metadata": {},
   "source": [
    "### Comparación 1: LogisticRegression y Count Vectorizer\n",
    "\n",
    "El [CountVectorizer](https://www.geeksforgeeks.org/using-countvectorizer-to-extracting-features-from-text/) porque...\n",
    "Mantendré LogisticRegression para transformar texto a vectores. \n",
    "Este nuevo modelo busca ver si es que el culpable de las inexactitudes es el ```TfidVectorizaer```"
   ]
  },
  {
   "cell_type": "code",
   "execution_count": 18,
   "metadata": {},
   "outputs": [],
   "source": [
    "## Usaré Count Vectorizer \n",
    "## Nuevamente para predecir usaré LogisticRegression\n",
    "class Compare2:\n",
    "    def __init__(self):\n",
    "        self.model = make_pipeline(CountVectorizer(), LogisticRegression())\n",
    "    \n",
    "    def fit(self, X, y):\n",
    "        self.model.fit(X, y)\n",
    "    \n",
    "    def predict(self, X):\n",
    "        return self.model.predict(X)"
   ]
  },
  {
   "cell_type": "code",
   "execution_count": 19,
   "metadata": {},
   "outputs": [],
   "source": [
    "## Se demora a lo mucho:  1 minuto y 15 seg\n",
    "\n",
    "clasificador_3 = Compare2()\n",
    "\n",
    "clasificador_3.fit(X_train_genero, y_train_gen)"
   ]
  },
  {
   "cell_type": "code",
   "execution_count": null,
   "metadata": {},
   "outputs": [
    {
     "name": "stdout",
     "output_type": "stream",
     "text": [
      "              precision    recall  f1-score   support\n",
      "\n",
      "           0       0.83      0.94      0.88     53428\n",
      "           1       0.76      0.48      0.59     20297\n",
      "\n",
      "    accuracy                           0.81     73725\n",
      "   macro avg       0.79      0.71      0.73     73725\n",
      "weighted avg       0.81      0.81      0.80     73725\n",
      "\n"
     ]
    }
   ],
   "source": [
    "# Se demora a lo mucho: 25 seg\n",
    "\n",
    "y_pred = clasificador_3.predict(X_test_gen)\n",
    "class_report = classification_report(y_test_gen, y_pred)\n",
    "print(class_report)"
   ]
  },
  {
   "cell_type": "markdown",
   "metadata": {},
   "source": [
    "Similarmente, el hecho de cambiar el codificador a no mejora la performance del modelo. Parece que la mejor combinación posible es codificar con ```TfidVectorizaer``` y usar para predecir ```LogisticRegression```"
   ]
  },
  {
   "cell_type": "markdown",
   "metadata": {},
   "source": [
    "# Parte 3. Extension: clasificando ideologıa polıtica \n",
    "Considera que los partidos de derecha son: Partido\n",
    "Union Democrata Independiente, Partido Republicano de Chile, Partido Renovacion Nacional, Partido Social\n",
    "Cristiano, Partido Evolución Polıtica (Evopoli), Partido Dem ́ocratas Chile y Movimiento Amarillos por Chile.\n",
    "\n",
    "Considera que los partidos de izquierda son: Partido Comunista de Chile, Partido Por la Democracia,\n",
    "Partido Frente Amplio, Partido Socialista de Chile, Partido Radical Socialdemócrata, Partido Demócrata\n",
    "Cristiano, Partido Liberal de Chile, Federacion Regionalista Verde Social, Partido Ecologista Verde, Partido\n",
    "Humanista y Partido Acción Humanista.\n",
    "\n",
    "Muestra como puedes usar ClasText para clasificar discursos de alguien de izquierda o de derecha."
   ]
  },
  {
   "cell_type": "code",
   "execution_count": 21,
   "metadata": {},
   "outputs": [],
   "source": [
    "## Nuevamente definiré un modelo usando ClasText\n",
    "\n",
    "model_party = ClasText()\n",
    "\n",
    "X_party = final['TEXTO_PRINCIPAL']\n",
    "y_party = final['PARTIDO_POLITICO']\n",
    "\n",
    "X_train_party, X_test_party, y_train_party, y_test_party = train_test_split(X_party, y_party, test_size=0.3, random_state=42)\n"
   ]
  },
  {
   "cell_type": "code",
   "execution_count": 22,
   "metadata": {},
   "outputs": [],
   "source": [
    "# La celda se demora a lo mucho:  2 minuto y 10 segundos\n",
    "model_party.fit(X_train_party, y_train_party)"
   ]
  },
  {
   "cell_type": "code",
   "execution_count": 23,
   "metadata": {},
   "outputs": [
    {
     "data": {
      "text/plain": [
       "array([2, 0, 1, ..., 1, 1, 0])"
      ]
     },
     "execution_count": 23,
     "metadata": {},
     "output_type": "execute_result"
    }
   ],
   "source": [
    "# La celda se demora a lo mucho:  15 seg\n",
    "\n",
    "y_party_predict = model_party.predict(X_test_party)\n",
    "y_party_predict"
   ]
  },
  {
   "cell_type": "code",
   "execution_count": 24,
   "metadata": {},
   "outputs": [
    {
     "data": {
      "text/plain": [
       "array([0, 1, 2])"
      ]
     },
     "execution_count": 24,
     "metadata": {},
     "output_type": "execute_result"
    }
   ],
   "source": [
    "unique_values = np.unique(y_party_predict)\n",
    "unique_values"
   ]
  },
  {
   "cell_type": "markdown",
   "metadata": {},
   "source": [
    "Vemos que efectivamente predice que serán de derecha, izquierda u otros"
   ]
  },
  {
   "cell_type": "code",
   "execution_count": 25,
   "metadata": {},
   "outputs": [
    {
     "name": "stdout",
     "output_type": "stream",
     "text": [
      "              precision    recall  f1-score   support\n",
      "\n",
      "           0       0.78      0.81      0.80     26840\n",
      "           1       0.77      0.83      0.80     28983\n",
      "           2       0.77      0.63      0.69     17902\n",
      "\n",
      "    accuracy                           0.77     73725\n",
      "   macro avg       0.77      0.76      0.76     73725\n",
      "weighted avg       0.77      0.77      0.77     73725\n",
      "\n"
     ]
    }
   ],
   "source": [
    "class_report = classification_report(y_test_party, y_party_predict)\n",
    "print(class_report)"
   ]
  },
  {
   "cell_type": "markdown",
   "metadata": {},
   "source": [
    "Vemos que de manera similar a la parte 2, puede predecir el partido politico pero no es tan efectivo. "
   ]
  },
  {
   "cell_type": "markdown",
   "metadata": {},
   "source": [
    "# Parte 4. ¡Entregale nuevo texto a tus clasificadores! \n",
    "Ahora que tienes clasificadores, aprovecha de jugar un rato. Entregale textos que tu creas que pertenecen claramente a una clase u otra, y ve que predice tu model_gen. ¿Te hace sentido?"
   ]
  },
  {
   "cell_type": "markdown",
   "metadata": {},
   "source": [
    "## Desarrollo\n",
    "Decidí hacer una predicción basado en el projecto que hizo ***KamadoTanjiro-beep*** llamado [Book-Genre-Prediction](https://github.com/KamadoTanjiro-beep/Book-Genre-Prediction) disponible en GitHub. Usó 3000 sinopsis de libros para predecir el genero de cada uno. Voy a ver si puedo usarlo para predecir el genero del libro efectivamente. "
   ]
  },
  {
   "cell_type": "code",
   "execution_count": 26,
   "metadata": {},
   "outputs": [
    {
     "data": {
      "text/html": [
       "<div>\n",
       "<style scoped>\n",
       "    .dataframe tbody tr th:only-of-type {\n",
       "        vertical-align: middle;\n",
       "    }\n",
       "\n",
       "    .dataframe tbody tr th {\n",
       "        vertical-align: top;\n",
       "    }\n",
       "\n",
       "    .dataframe thead th {\n",
       "        text-align: right;\n",
       "    }\n",
       "</style>\n",
       "<table border=\"1\" class=\"dataframe\">\n",
       "  <thead>\n",
       "    <tr style=\"text-align: right;\">\n",
       "      <th></th>\n",
       "      <th>genre</th>\n",
       "      <th>summary</th>\n",
       "    </tr>\n",
       "  </thead>\n",
       "  <tbody>\n",
       "    <tr>\n",
       "      <th>0</th>\n",
       "      <td>Fantasy</td>\n",
       "      <td>Drowned Wednesday is the first Trustee among ...</td>\n",
       "    </tr>\n",
       "    <tr>\n",
       "      <th>1</th>\n",
       "      <td>Fantasy</td>\n",
       "      <td>As the book opens, Jason awakens on a school ...</td>\n",
       "    </tr>\n",
       "    <tr>\n",
       "      <th>2</th>\n",
       "      <td>Fantasy</td>\n",
       "      <td>Cugel is easily persuaded by the merchant Fia...</td>\n",
       "    </tr>\n",
       "    <tr>\n",
       "      <th>3</th>\n",
       "      <td>Fantasy</td>\n",
       "      <td>The book opens with Herald-Mage Vanyel return...</td>\n",
       "    </tr>\n",
       "    <tr>\n",
       "      <th>4</th>\n",
       "      <td>Fantasy</td>\n",
       "      <td>Taran and Gurgi have returned to Caer Dallben...</td>\n",
       "    </tr>\n",
       "    <tr>\n",
       "      <th>...</th>\n",
       "      <td>...</td>\n",
       "      <td>...</td>\n",
       "    </tr>\n",
       "    <tr>\n",
       "      <th>2995</th>\n",
       "      <td>Thriller</td>\n",
       "      <td>A Novel from the NUMA files, A Kurt Austin Ad...</td>\n",
       "    </tr>\n",
       "    <tr>\n",
       "      <th>2996</th>\n",
       "      <td>Thriller</td>\n",
       "      <td>Gilbert Kemp is dealer specializing in antiqu...</td>\n",
       "    </tr>\n",
       "    <tr>\n",
       "      <th>2997</th>\n",
       "      <td>Thriller</td>\n",
       "      <td>\"How do you know when you're in too deep? Dav...</td>\n",
       "    </tr>\n",
       "    <tr>\n",
       "      <th>2998</th>\n",
       "      <td>Thriller</td>\n",
       "      <td>The story concerns the life of Johnnie Pascoe...</td>\n",
       "    </tr>\n",
       "    <tr>\n",
       "      <th>2999</th>\n",
       "      <td>Thriller</td>\n",
       "      <td>The First Chief: Will Henry Lee: The novel op...</td>\n",
       "    </tr>\n",
       "  </tbody>\n",
       "</table>\n",
       "<p>3000 rows × 2 columns</p>\n",
       "</div>"
      ],
      "text/plain": [
       "         genre                                            summary\n",
       "0      Fantasy   Drowned Wednesday is the first Trustee among ...\n",
       "1      Fantasy   As the book opens, Jason awakens on a school ...\n",
       "2      Fantasy   Cugel is easily persuaded by the merchant Fia...\n",
       "3      Fantasy   The book opens with Herald-Mage Vanyel return...\n",
       "4      Fantasy   Taran and Gurgi have returned to Caer Dallben...\n",
       "...        ...                                                ...\n",
       "2995  Thriller   A Novel from the NUMA files, A Kurt Austin Ad...\n",
       "2996  Thriller   Gilbert Kemp is dealer specializing in antiqu...\n",
       "2997  Thriller   \"How do you know when you're in too deep? Dav...\n",
       "2998  Thriller   The story concerns the life of Johnnie Pascoe...\n",
       "2999  Thriller   The First Chief: Will Henry Lee: The novel op...\n",
       "\n",
       "[3000 rows x 2 columns]"
      ]
     },
     "execution_count": 26,
     "metadata": {},
     "output_type": "execute_result"
    }
   ],
   "source": [
    "BookData = pd.read_csv(\"https://raw.githubusercontent.com/KamadoTanjiro-beep/Book-Genre-Prediction/refs/heads/master/BooksDataSet.csv\")\n",
    "# Quito columnas innecesarias.  \n",
    "BookData = BookData.drop(columns=['book_id', 'Unnamed: 0', 'book_name'])\n",
    "\n",
    "BookData"
   ]
  },
  {
   "cell_type": "code",
   "execution_count": 27,
   "metadata": {},
   "outputs": [
    {
     "name": "stdout",
     "output_type": "stream",
     "text": [
      "['Fantasy' 'Science Fiction' 'Crime Fiction' 'Historical novel' 'Horror'\n",
      " 'Thriller']\n"
     ]
    }
   ],
   "source": [
    "print(BookData['genre'].unique())"
   ]
  },
  {
   "cell_type": "markdown",
   "metadata": {},
   "source": [
    "Hay 6 generos considerados: Fantasia, Ciencia Ficción, Crimienes, Novelas historicas, Horror y Thriller. Los transformaré a valores númericos. "
   ]
  },
  {
   "cell_type": "code",
   "execution_count": 28,
   "metadata": {},
   "outputs": [
    {
     "data": {
      "text/html": [
       "<div>\n",
       "<style scoped>\n",
       "    .dataframe tbody tr th:only-of-type {\n",
       "        vertical-align: middle;\n",
       "    }\n",
       "\n",
       "    .dataframe tbody tr th {\n",
       "        vertical-align: top;\n",
       "    }\n",
       "\n",
       "    .dataframe thead th {\n",
       "        text-align: right;\n",
       "    }\n",
       "</style>\n",
       "<table border=\"1\" class=\"dataframe\">\n",
       "  <thead>\n",
       "    <tr style=\"text-align: right;\">\n",
       "      <th></th>\n",
       "      <th>genre</th>\n",
       "      <th>summary</th>\n",
       "    </tr>\n",
       "  </thead>\n",
       "  <tbody>\n",
       "    <tr>\n",
       "      <th>0</th>\n",
       "      <td>0</td>\n",
       "      <td>Drowned Wednesday is the first Trustee among ...</td>\n",
       "    </tr>\n",
       "    <tr>\n",
       "      <th>1</th>\n",
       "      <td>0</td>\n",
       "      <td>As the book opens, Jason awakens on a school ...</td>\n",
       "    </tr>\n",
       "    <tr>\n",
       "      <th>2</th>\n",
       "      <td>0</td>\n",
       "      <td>Cugel is easily persuaded by the merchant Fia...</td>\n",
       "    </tr>\n",
       "    <tr>\n",
       "      <th>3</th>\n",
       "      <td>0</td>\n",
       "      <td>The book opens with Herald-Mage Vanyel return...</td>\n",
       "    </tr>\n",
       "    <tr>\n",
       "      <th>4</th>\n",
       "      <td>0</td>\n",
       "      <td>Taran and Gurgi have returned to Caer Dallben...</td>\n",
       "    </tr>\n",
       "    <tr>\n",
       "      <th>...</th>\n",
       "      <td>...</td>\n",
       "      <td>...</td>\n",
       "    </tr>\n",
       "    <tr>\n",
       "      <th>2995</th>\n",
       "      <td>5</td>\n",
       "      <td>A Novel from the NUMA files, A Kurt Austin Ad...</td>\n",
       "    </tr>\n",
       "    <tr>\n",
       "      <th>2996</th>\n",
       "      <td>5</td>\n",
       "      <td>Gilbert Kemp is dealer specializing in antiqu...</td>\n",
       "    </tr>\n",
       "    <tr>\n",
       "      <th>2997</th>\n",
       "      <td>5</td>\n",
       "      <td>\"How do you know when you're in too deep? Dav...</td>\n",
       "    </tr>\n",
       "    <tr>\n",
       "      <th>2998</th>\n",
       "      <td>5</td>\n",
       "      <td>The story concerns the life of Johnnie Pascoe...</td>\n",
       "    </tr>\n",
       "    <tr>\n",
       "      <th>2999</th>\n",
       "      <td>5</td>\n",
       "      <td>The First Chief: Will Henry Lee: The novel op...</td>\n",
       "    </tr>\n",
       "  </tbody>\n",
       "</table>\n",
       "<p>3000 rows × 2 columns</p>\n",
       "</div>"
      ],
      "text/plain": [
       "      genre                                            summary\n",
       "0         0   Drowned Wednesday is the first Trustee among ...\n",
       "1         0   As the book opens, Jason awakens on a school ...\n",
       "2         0   Cugel is easily persuaded by the merchant Fia...\n",
       "3         0   The book opens with Herald-Mage Vanyel return...\n",
       "4         0   Taran and Gurgi have returned to Caer Dallben...\n",
       "...     ...                                                ...\n",
       "2995      5   A Novel from the NUMA files, A Kurt Austin Ad...\n",
       "2996      5   Gilbert Kemp is dealer specializing in antiqu...\n",
       "2997      5   \"How do you know when you're in too deep? Dav...\n",
       "2998      5   The story concerns the life of Johnnie Pascoe...\n",
       "2999      5   The First Chief: Will Henry Lee: The novel op...\n",
       "\n",
       "[3000 rows x 2 columns]"
      ]
     },
     "execution_count": 28,
     "metadata": {},
     "output_type": "execute_result"
    }
   ],
   "source": [
    "## Fantasia es 0, Ciencia Ficción es 1, Crimienes es 2, Novelas historicas es 3, Horror es 4 y Thriller es 5\n",
    "genre_mapping = {'Fantasy': 0, 'Science Fiction': 1, 'Crime Fiction': 2, 'Historical novel': 3, 'Horror': 4, 'Thriller': 5}\n",
    "\n",
    "BookData['genre'] = BookData['genre'].map(genre_mapping)\n",
    "BookData"
   ]
  },
  {
   "cell_type": "code",
   "execution_count": 29,
   "metadata": {},
   "outputs": [],
   "source": [
    "## Definimos el modelo usando ClasText\n",
    "\n",
    "book_model = ClasText()\n",
    "\n",
    "X_book = BookData['summary']\n",
    "y_book = BookData['genre']\n",
    "\n",
    "X_train_book, X_test_book, y_train_book, y_test_book = train_test_split(X_book, y_book, test_size=0.2, random_state=42)"
   ]
  },
  {
   "cell_type": "code",
   "execution_count": 30,
   "metadata": {},
   "outputs": [],
   "source": [
    "book_model.fit(X_train_book, y_train_book)"
   ]
  },
  {
   "cell_type": "code",
   "execution_count": 31,
   "metadata": {},
   "outputs": [],
   "source": [
    "y_predicted_book = book_model.predict(X_test_book)"
   ]
  },
  {
   "cell_type": "code",
   "execution_count": 32,
   "metadata": {},
   "outputs": [
    {
     "name": "stdout",
     "output_type": "stream",
     "text": [
      "              precision    recall  f1-score   support\n",
      "\n",
      "           0       0.78      0.65      0.71       118\n",
      "           1       0.69      0.75      0.71        99\n",
      "           2       0.71      0.82      0.76        96\n",
      "           3       0.65      0.83      0.73       101\n",
      "           4       0.69      0.52      0.59        91\n",
      "           5       0.63      0.56      0.59        95\n",
      "\n",
      "    accuracy                           0.69       600\n",
      "   macro avg       0.69      0.69      0.68       600\n",
      "weighted avg       0.69      0.69      0.69       600\n",
      "\n"
     ]
    }
   ],
   "source": [
    "class_report = classification_report(y_test_book, y_predicted_book)\n",
    "print(class_report)"
   ]
  },
  {
   "cell_type": "markdown",
   "metadata": {},
   "source": [
    "Vemos que es capas de predecir pero no tiene un accuracy muy alto  tampoco una gran precisión. Veamos como actua con ejemplos de libros famosos. "
   ]
  },
  {
   "cell_type": "markdown",
   "metadata": {},
   "source": [
    "Las sinopsis son de: \n",
    "\n",
    "Fantasia: [The Fellowship of the Ring de J.R.R. Tolkien](https://www.goodreads.com/book/show/3263607-the-fellowship-of-the-ring)\n",
    "\n",
    "Ciencia Ficción: [The War of the Worlds de H.G. Wells](https://www.goodreads.com/book/show/8909.The_War_of_the_Worlds)\n",
    "\n",
    "Crimienes: [The Girl with the Dragon Tattoo de Stieg Larsson](https://www.goodreads.com/book/show/2429135.The_Girl_with_the_Dragon_Tattoo)\n",
    "\n",
    "Novelas historicas: [Gone with the Wind de Margaret Mitchell](https://www.goodreads.com/book/show/18405.Gone_with_the_Wind)\n",
    "\n",
    "Horror: [Dracula de Bram Stoker](https://www.goodreads.com/book/show/17245.Dracula)\n",
    "\n",
    "Thriller: [The Patient's Secret de Loreth Anne White](https://www.goodreads.com/book/show/57694667-the-patient-s-secret)\n"
   ]
  },
  {
   "cell_type": "code",
   "execution_count": 33,
   "metadata": {},
   "outputs": [],
   "source": [
    "sinopsis = {\n",
    "    0:\"One Ring to rule them all, One Ring to find them, One Ring to bring them all and in the darkness bind them. In ancient times the Rings of Power were crafted by the Elven-smiths, and Sauron, the Dark Lord, forged the One Ring, filling it with his own power so that he could rule all others. But the One Ring was taken from him, and though he sought it throughout Middle-earth, it remained lost to him. After many ages it fell into the hands of Bilbo Baggins, as told in The Hobbit. In a sleepy village in the Shire, young Frodo Baggins finds himself faced with an immense task, as his elderly cousin Bilbo entrusts the Ring to his care. Frodo must leave his home and make a perilous journey across Middle-earth to the Cracks of Doom, there to destroy the Ring and foil the Dark Lord in his evil purpose.\",\n",
    "    1:\"When an army of invading Martians lands in England, panic and terror seize the population. As the aliens traverse the country in huge three-legged machines, incinerating all in their path with a heat ray and spreading noxious toxic gases, the people of the Earth must come to terms with the prospect of the end of human civilization and the beginning of Martian rule.\",\n",
    "    2:\"Harriet Vanger, a scion of one of Sweden’s wealthiest families disappeared over forty years ago. All these years later, her aged uncle continues to seek the truth. He hires Mikael Blomkvist, a crusading journalist recently trapped by a libel conviction, to investigate. He is aided by the pierced and tattooed punk prodigy Lisbeth Salander. Together they tap into a vein of unfathomable iniquity and astonishing corruption.\",\n",
    "    3:\"When Jonathan Harker visits Transylvania to help Count Dracula with the purchase of a London house, he makes a series of horrific discoveries about his client. Soon afterwards, various bizarre incidents unfold in England: an apparently unmanned ship is wrecked off the coast of Whitby; a young woman discovers strange puncture marks on her neck; and the inmate of a lunatic asylum raves about the 'Master' and his imminent arrival.\", \n",
    "    4:\"Secrets worth dying―and killing―for, in a novel of suspense inspired by a horrific true crime by Washington Post and Amazon Charts bestselling author Loreth Anne White. Lily Bradley is a respected psychotherapist married to a distinguished professor. They live in a dream house with their two children in close-knit Story Cove. Lily lives a well-ordered life. Or so it seems. As a therapist, she knows everyone keeps things hidden. Even her. Then sensual and free-spirited Arwen Harper rolls into town in her hand-painted VW van, her sixteen-year-old son riding shotgun. Overnight, Story Cove’s secrets are no longer safe. Because Arwen might know her new neighbors better than they know themselves. Now someone is dead, and it looks like murder. Brutal and personal. The death invites the shrewd eye of Detective Rue Duval. Rue’s job is to expose secrets. But she’s also an expert at keeping them.\",\n",
    "}\n",
    "\n",
    "generos = {\n",
    "    0: \"Fantasia\",\n",
    "    1: 'Ciencia Ficción',\n",
    "    2: 'Crimenes',\n",
    "    3: 'Novelas Historicas',\n",
    "    4: 'Horror',\n",
    "    5: 'Thriller'\n",
    "}\n"
   ]
  },
  {
   "cell_type": "code",
   "execution_count": 34,
   "metadata": {},
   "outputs": [
    {
     "name": "stdout",
     "output_type": "stream",
     "text": [
      "Genero Real: Fantasia --> Prediccion: Fantasia\n",
      "Genero Real: Ciencia Ficción --> Prediccion: Ciencia Ficción\n",
      "Genero Real: Crimenes --> Prediccion: Crimenes\n",
      "Genero Real: Novelas Historicas --> Prediccion: Horror\n",
      "Genero Real: Horror --> Prediccion: Crimenes\n"
     ]
    }
   ],
   "source": [
    "\n",
    "for key, synopsis in sinopsis.items():\n",
    "    prediction = book_model.predict([synopsis])  # Wrap synopsis in a list for the model\n",
    "    print(f\"Genero Real: {generos[key]} --> Prediccion: {generos[prediction[0]]}\")"
   ]
  },
  {
   "cell_type": "markdown",
   "metadata": {},
   "source": [
    "Vemos que 3 de los 5 generos fueron adivinados. Así que el modelo tal vez con más entrenamiento será capaz de adivinar que genero mejor. Hay que considerar que hay temas comunes entre los crimenes y el horror. También que algunos libros de horror pasan en epocas historicas (Como Drácula). "
   ]
  }
 ],
 "metadata": {
  "kernelspec": {
   "display_name": "Python 3",
   "language": "python",
   "name": "python3"
  },
  "language_info": {
   "codemirror_mode": {
    "name": "ipython",
    "version": 3
   },
   "file_extension": ".py",
   "mimetype": "text/x-python",
   "name": "python",
   "nbconvert_exporter": "python",
   "pygments_lexer": "ipython3",
   "version": "3.12.6"
  }
 },
 "nbformat": 4,
 "nbformat_minor": 2
}
