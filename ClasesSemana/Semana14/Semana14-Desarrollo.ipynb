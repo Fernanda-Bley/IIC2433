{
 "cells": [
  {
   "cell_type": "code",
   "execution_count": 1,
   "metadata": {},
   "outputs": [],
   "source": [
    "import pandas as pd\n",
    "import numpy as np\n",
    "\n",
    "from sklearn.ensemble import RandomForestClassifier\n",
    "from sklearn.model_selection import train_test_split\n",
    "import sklearn.metrics as metricas\n",
    "from sklearn.model_selection import cross_val_score\n",
    "from sklearn.metrics import classification_report, confusion_matrix, accuracy_score, f1_score\n",
    "\n",
    "from imblearn.pipeline import Pipeline, make_pipeline\n",
    "from imblearn.over_sampling import SMOTE\n",
    "from imblearn.under_sampling import NearMiss"
   ]
  },
  {
   "cell_type": "markdown",
   "metadata": {},
   "source": [
    "## Actividad sugerida\n",
    "\n",
    "Abajo vas a ver tabajo con otro set de datos, que no está tan desbalanceado. Pero lo que puedes hacer es borrar algunos ejemplos con fraude, para desbalancear más el set de datos y hacer que sea importante alguna acción correctiva. \n",
    "\n",
    "Realiza esa acción, y comprueba para distintos conjuntos de datos borrados (digamos, borrando el 90% de los fraudes, y el 99% de los fraudes) si SMOTE logra un mejor rendimiento, o no."
   ]
  },
  {
   "cell_type": "code",
   "execution_count": 2,
   "metadata": {},
   "outputs": [],
   "source": [
    "datos = pd.read_csv('card_transdata.csv')\n",
    "\n",
    "fraudes = datos[datos['fraud'] == 1.0]\n",
    "\n",
    "\n",
    "# 90%\n",
    "### Código que remueve el 90% de los datos clasificados como fraude\n",
    "filas_a_remover90 = fraudes.sample(frac=0.9, random_state=42)\n",
    "datos90 = datos.drop(filas_a_remover90.index)\n",
    "\n",
    "### Código que remueve el 99% de los datos clasificados como fraude\n",
    "filas_a_remover99 = fraudes.sample(frac=0.99, random_state=42)\n",
    "datos99 = datos.drop(filas_a_remover99.index)\n"
   ]
  },
  {
   "cell_type": "code",
   "execution_count": null,
   "metadata": {},
   "outputs": [],
   "source": [
    "def evaluar_modelo(datos):\n",
    "    # Verificar si hay valores NaN en el conjunto de datos\n",
    "    if datos.isnull().values.any():\n",
    "        print(\"Hay valores NaN en el conjunto de datos. Procediendo a eliminarlos.\")\n",
    "        datos = datos.dropna()  \n",
    "\n",
    "    X = datos.drop('fraud', axis=1)\n",
    "    y = datos['fraud']\n",
    "    \n",
    "    # Dividir el conjunto en entrenamiento y prueba\n",
    "    X_train, X_test, y_train, y_test = train_test_split(X, y, test_size=0.3, random_state=42)\n",
    "    \n",
    "    # Aplicar SMOTE\n",
    "    smote = SMOTE(random_state=42)\n",
    "    X_train_res, y_train_res = smote.fit_resample(X_train, y_train)\n",
    "    \n",
    "    # Entrenar los modelos\n",
    "    modelo_smote = RandomForestClassifier(random_state=42)\n",
    "    modelo_no_smote = RandomForestClassifier(random_state=42)\n",
    "\n",
    "    modelo_smote.fit(X_train_res, y_train_res)\n",
    "    modelo_no_smote.fit(X_train, y_train)\n",
    "    \n",
    "    # Realizar predicciones\n",
    "    y_pred_smote = modelo_smote.predict(X_test)\n",
    "    y_pred_no_smote = modelo_no_smote.predict(X_test)\n",
    "\n",
    "    \n",
    "    # Evaluar el rendimiento\n",
    "    return accuracy_score(y_test, y_pred_smote), accuracy_score(y_test, y_pred_no_smote)"
   ]
  },
  {
   "cell_type": "code",
   "execution_count": 4,
   "metadata": {},
   "outputs": [
    {
     "name": "stdout",
     "output_type": "stream",
     "text": [
      "Hay valores NaN en el conjunto de datos. Procediendo a eliminarlos.\n"
     ]
    }
   ],
   "source": [
    "#La celda se demora 16 segundos, por favor tengan paciencia :(\n",
    "rendimiento_smote90, rendimiento_no_smote90 = evaluar_modelo(datos90)"
   ]
  },
  {
   "cell_type": "code",
   "execution_count": 5,
   "metadata": {},
   "outputs": [],
   "source": [
    "def conclusiones (rendimiento_smote, rentimiento_no_smote, porcentaje:int):\n",
    "    print(f\"El rendimiento (accuracy score) al eliminar el {porcentaje}% \\n\\tEl rendimiento sin ocupar SMOTE es {rentimiento_no_smote}\\n\\tEl rendimiento cuando ocupamos SMOTE {rendimiento_smote}\")\n",
    "    if rendimiento_smote > rendimiento_smote:\n",
    "        print(\"Usar SMOTE es peor para el acurracy del modelo\")\n",
    "    elif rendimiento_smote == rendimiento_smote:\n",
    "        print(\"Usar SMOTE no afecta ni para bien, ni para mal (o la diferencia es insignificante)\")\n",
    "    else: \n",
    "        print(\"Usar SMOTE mejora el acuracy del modelo\")\n",
    "    "
   ]
  },
  {
   "cell_type": "code",
   "execution_count": 6,
   "metadata": {},
   "outputs": [
    {
     "name": "stdout",
     "output_type": "stream",
     "text": [
      "El rendimiento (accuracy score) al eliminar el 90% \n",
      "\tEl rendimiento sin ocupar SMOTE es 0.999736931113533\n",
      "\tEl rendimiento cuando ocupamos SMOTE 0.999473862227066\n",
      "Usar SMOTE no afecta ni para bien, ni para mal (o la diferencia es insignificante)\n"
     ]
    }
   ],
   "source": [
    "conclusiones(rendimiento_smote90, rendimiento_no_smote90, 90)"
   ]
  },
  {
   "cell_type": "code",
   "execution_count": 7,
   "metadata": {},
   "outputs": [
    {
     "name": "stdout",
     "output_type": "stream",
     "text": [
      "Hay valores NaN en el conjunto de datos. Procediendo a eliminarlos.\n"
     ]
    }
   ],
   "source": [
    "## Repetimos el proceso para 99%\n",
    "\n",
    "rendimiento_smote99, rendimiento_no_smote99 = evaluar_modelo(datos99)"
   ]
  },
  {
   "cell_type": "code",
   "execution_count": 8,
   "metadata": {},
   "outputs": [
    {
     "name": "stdout",
     "output_type": "stream",
     "text": [
      "El rendimiento (accuracy score) al eliminar el 99% \n",
      "\tEl rendimiento sin ocupar SMOTE es 0.9996588712428458\n",
      "\tEl rendimiento cuando ocupamos SMOTE 0.9995072584618884\n",
      "Usar SMOTE no afecta ni para bien, ni para mal (o la diferencia es insignificante)\n"
     ]
    }
   ],
   "source": [
    "conclusiones(rendimiento_smote99, rendimiento_no_smote99, 99)"
   ]
  },
  {
   "cell_type": "markdown",
   "metadata": {},
   "source": [
    "En ambos casos el rendimiento no se ve afectado por el SMOTE, teorizo que es porque no están tan desbalanceados los datos. "
   ]
  }
 ],
 "metadata": {
  "kernelspec": {
   "display_name": "Python 3",
   "language": "python",
   "name": "python3"
  },
  "language_info": {
   "codemirror_mode": {
    "name": "ipython",
    "version": 3
   },
   "file_extension": ".py",
   "mimetype": "text/x-python",
   "name": "python",
   "nbconvert_exporter": "python",
   "pygments_lexer": "ipython3",
   "version": "3.12.1"
  }
 },
 "nbformat": 4,
 "nbformat_minor": 2
}
