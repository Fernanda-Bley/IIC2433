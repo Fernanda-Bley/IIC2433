{
 "cells": [
  {
   "cell_type": "code",
   "execution_count": 1,
   "metadata": {},
   "outputs": [],
   "source": [
    "## Descomente en caso de no tener spacy\n",
    "# !pip install spacy\n",
    "# !python -m spacy download es_core_news_md"
   ]
  },
  {
   "cell_type": "code",
   "execution_count": 2,
   "metadata": {},
   "outputs": [],
   "source": [
    "import spacy\n",
    "from scipy.spatial.distance import cosine\n",
    "import pandas as pd\n",
    "import numpy as np\n",
    "\n",
    "import matplotlib.pyplot as plt\n",
    "import matplotlib.cm as cm\n",
    "import seaborn as sns\n",
    "\n",
    "from sklearn.decomposition import PCA\n",
    "from sklearn.feature_extraction.text import TfidfVectorizer\n"
   ]
  },
  {
   "cell_type": "markdown",
   "metadata": {},
   "source": [
    "## Ejercicio 1\n",
    "\n",
    "¿Los vectores de spaCy se calculan con las lematizaciones o con las palabras? Prueba con tres palabras, dos bien similares y otra bien distinta, y vé como se relacionan las distancias entre los vectores resultantes. \n"
   ]
  },
  {
   "cell_type": "code",
   "execution_count": 3,
   "metadata": {},
   "outputs": [],
   "source": [
    "## Voy a usar las palabras rata (de dos patas), gata (bajo la lluvia) y Llueve (sobre la ciudad)\n",
    "palabras = [\"Llueve\", \"Rata\", \"Gata\"]\n",
    "\n",
    "nlp = spacy.load('es_core_news_md')\n",
    "\n",
    "vectores = [nlp(palabra).vector for palabra in palabras]"
   ]
  },
  {
   "cell_type": "code",
   "execution_count": null,
   "metadata": {},
   "outputs": [],
   "source": [
    "distancias = {\n",
    "    \"llueve-rata\": cosine(vectores[0], vectores[1]),\n",
    "    \"llueve-gata\": cosine(vectores[0], vectores[2]),\n",
    "    \"rata-gata\": cosine(vectores[1], vectores[2]),\n",
    "}"
   ]
  },
  {
   "cell_type": "code",
   "execution_count": 5,
   "metadata": {},
   "outputs": [
    {
     "name": "stdout",
     "output_type": "stream",
     "text": [
      "Distancia entre llueve-rata: 1.0574\n",
      "Distancia entre llueve-gata: 0.9615\n",
      "Distancia entre rata-gata: 0.6993\n"
     ]
    }
   ],
   "source": [
    "for par, distancia in distancias.items():\n",
    "    print(f\"Distancia entre {par}: {distancia:.4f}\")"
   ]
  },
  {
   "cell_type": "markdown",
   "metadata": {},
   "source": [
    "Vemos que las palabras similares tienen menos distancia entre ellas que la distancia que hay entre cada una y la palabra distinta"
   ]
  },
  {
   "cell_type": "markdown",
   "metadata": {},
   "source": [
    "## Ejercicio 2\n",
    "\n",
    "¿Son estos iguales? Arma un dataset de 14 vectores, cada uno correspondiente a una frase del texto, resultante de usar las forma de llevar frases a vectores que vimos acá. Usa PCA para llevar ese dataset a dos dimensiones, y visualizar, tal como lo hicimos con los vectores tf-idf. ¿Vés alguna diferencia?"
   ]
  },
  {
   "cell_type": "code",
   "execution_count": 6,
   "metadata": {},
   "outputs": [],
   "source": [
    "versos = [\"Quizá porque mi niñez sigue jugando en tu playa\", \\\n",
    "\"Y escondido tras las cañas duerme mi primer amor\", \\\n",
    "\"Llevo tu luz y tu olor por donde quiera que vaya\", \\\n",
    "\"Y amontonado en tu arena guardo amor, juegos y penas\",\\\n",
    "\"Yo que en la piel tengo el sabor amargo del llanto eterno\", \\\n",
    "\"Que han vertido en ti cien pueblos, de Algeciras a Estambul\", \\\n",
    "\"Para que pintes de azul sus largas noches de invierno\", \\\n",
    "\"A fuerza de desventuras tu alma es profunda y oscura\", \\\n",
    "\"A tus atardeceres rojos se acostumbraron mis ojos\", \\\n",
    "\"Como el recodo al camino\", \\\n",
    "\"Soy cantor, soy embustero\", \\\n",
    "\"Me gusta el juego y el vino, tengo alma de marinero\", \\\n",
    "\"¿Qué le voy a hacer si yo nací en el Mediterráneo?\", \\\n",
    "\"Nací en el Mediterráneo\"]"
   ]
  },
  {
   "cell_type": "code",
   "execution_count": 7,
   "metadata": {},
   "outputs": [],
   "source": [
    "vectores = [nlp(verso).vector for verso in versos]\n",
    "\n",
    "df_vectores = pd.DataFrame(vectores)"
   ]
  },
  {
   "cell_type": "code",
   "execution_count": 8,
   "metadata": {},
   "outputs": [
    {
     "data": {
      "text/html": [
       "<div>\n",
       "<style scoped>\n",
       "    .dataframe tbody tr th:only-of-type {\n",
       "        vertical-align: middle;\n",
       "    }\n",
       "\n",
       "    .dataframe tbody tr th {\n",
       "        vertical-align: top;\n",
       "    }\n",
       "\n",
       "    .dataframe thead th {\n",
       "        text-align: right;\n",
       "    }\n",
       "</style>\n",
       "<table border=\"1\" class=\"dataframe\">\n",
       "  <thead>\n",
       "    <tr style=\"text-align: right;\">\n",
       "      <th></th>\n",
       "      <th>X</th>\n",
       "      <th>Y</th>\n",
       "      <th>num_frase</th>\n",
       "    </tr>\n",
       "  </thead>\n",
       "  <tbody>\n",
       "    <tr>\n",
       "      <th>0</th>\n",
       "      <td>-6.665097</td>\n",
       "      <td>9.127045</td>\n",
       "      <td>1</td>\n",
       "    </tr>\n",
       "    <tr>\n",
       "      <th>1</th>\n",
       "      <td>-5.994858</td>\n",
       "      <td>1.683455</td>\n",
       "      <td>2</td>\n",
       "    </tr>\n",
       "    <tr>\n",
       "      <th>2</th>\n",
       "      <td>-10.273592</td>\n",
       "      <td>7.332881</td>\n",
       "      <td>3</td>\n",
       "    </tr>\n",
       "    <tr>\n",
       "      <th>3</th>\n",
       "      <td>-4.678353</td>\n",
       "      <td>0.530951</td>\n",
       "      <td>4</td>\n",
       "    </tr>\n",
       "    <tr>\n",
       "      <th>4</th>\n",
       "      <td>5.396340</td>\n",
       "      <td>1.027653</td>\n",
       "      <td>5</td>\n",
       "    </tr>\n",
       "    <tr>\n",
       "      <th>5</th>\n",
       "      <td>0.014103</td>\n",
       "      <td>-9.062030</td>\n",
       "      <td>6</td>\n",
       "    </tr>\n",
       "    <tr>\n",
       "      <th>6</th>\n",
       "      <td>0.342309</td>\n",
       "      <td>-15.167686</td>\n",
       "      <td>7</td>\n",
       "    </tr>\n",
       "    <tr>\n",
       "      <th>7</th>\n",
       "      <td>-6.427702</td>\n",
       "      <td>-1.904752</td>\n",
       "      <td>8</td>\n",
       "    </tr>\n",
       "    <tr>\n",
       "      <th>8</th>\n",
       "      <td>-11.041583</td>\n",
       "      <td>-11.418806</td>\n",
       "      <td>9</td>\n",
       "    </tr>\n",
       "    <tr>\n",
       "      <th>9</th>\n",
       "      <td>20.605980</td>\n",
       "      <td>6.483067</td>\n",
       "      <td>10</td>\n",
       "    </tr>\n",
       "    <tr>\n",
       "      <th>10</th>\n",
       "      <td>-5.809330</td>\n",
       "      <td>3.530471</td>\n",
       "      <td>11</td>\n",
       "    </tr>\n",
       "    <tr>\n",
       "      <th>11</th>\n",
       "      <td>5.099536</td>\n",
       "      <td>0.595677</td>\n",
       "      <td>12</td>\n",
       "    </tr>\n",
       "    <tr>\n",
       "      <th>12</th>\n",
       "      <td>-4.467871</td>\n",
       "      <td>9.835436</td>\n",
       "      <td>13</td>\n",
       "    </tr>\n",
       "    <tr>\n",
       "      <th>13</th>\n",
       "      <td>23.900110</td>\n",
       "      <td>-2.593357</td>\n",
       "      <td>14</td>\n",
       "    </tr>\n",
       "  </tbody>\n",
       "</table>\n",
       "</div>"
      ],
      "text/plain": [
       "            X          Y  num_frase\n",
       "0   -6.665097   9.127045          1\n",
       "1   -5.994858   1.683455          2\n",
       "2  -10.273592   7.332881          3\n",
       "3   -4.678353   0.530951          4\n",
       "4    5.396340   1.027653          5\n",
       "5    0.014103  -9.062030          6\n",
       "6    0.342309 -15.167686          7\n",
       "7   -6.427702  -1.904752          8\n",
       "8  -11.041583 -11.418806          9\n",
       "9   20.605980   6.483067         10\n",
       "10  -5.809330   3.530471         11\n",
       "11   5.099536   0.595677         12\n",
       "12  -4.467871   9.835436         13\n",
       "13  23.900110  -2.593357         14"
      ]
     },
     "execution_count": 8,
     "metadata": {},
     "output_type": "execute_result"
    }
   ],
   "source": [
    "pca = PCA(n_components=2)\n",
    "vectores_2d = pca.fit_transform(df_vectores)\n",
    "\n",
    "# Crear un DataFrame para los resultados de PCA\n",
    "df_usando_spacy = pd.DataFrame(data=vectores_2d, columns=['X', 'Y'])\n",
    "df_usando_spacy[\"num_frase\"] = range(1, 15)\n",
    "df_usando_spacy"
   ]
  },
  {
   "cell_type": "code",
   "execution_count": 9,
   "metadata": {},
   "outputs": [],
   "source": [
    "def spacy_tokenizer_esp(documento):\n",
    "    resultado = []\n",
    "    procesado = nlp(documento)\n",
    "    for token in procesado: \n",
    "        if (token.is_stop == False and token.is_punct == False and token.lemma_.strip()!=''):\n",
    "            resultado.append(token.lemma_)\n",
    "    return resultado"
   ]
  },
  {
   "cell_type": "code",
   "execution_count": 10,
   "metadata": {},
   "outputs": [],
   "source": [
    "tfidf_vectorizer = TfidfVectorizer(input = 'content', tokenizer = spacy_tokenizer_esp)"
   ]
  },
  {
   "cell_type": "code",
   "execution_count": 11,
   "metadata": {},
   "outputs": [
    {
     "name": "stderr",
     "output_type": "stream",
     "text": [
      "/home/codespace/.local/lib/python3.12/site-packages/sklearn/feature_extraction/text.py:521: UserWarning: The parameter 'token_pattern' will not be used since 'tokenizer' is not None'\n",
      "  warnings.warn(\n"
     ]
    }
   ],
   "source": [
    "procesado = tfidf_vectorizer.fit_transform(versos)\n",
    "denso = procesado.todense()\n",
    "denso = denso.tolist()\n",
    "tfidf_denso = pd.DataFrame(\n",
    "    denso,columns=tfidf_vectorizer.get_feature_names_out())"
   ]
  },
  {
   "cell_type": "code",
   "execution_count": 12,
   "metadata": {},
   "outputs": [
    {
     "data": {
      "text/html": [
       "<div>\n",
       "<style scoped>\n",
       "    .dataframe tbody tr th:only-of-type {\n",
       "        vertical-align: middle;\n",
       "    }\n",
       "\n",
       "    .dataframe tbody tr th {\n",
       "        vertical-align: top;\n",
       "    }\n",
       "\n",
       "    .dataframe thead th {\n",
       "        text-align: right;\n",
       "    }\n",
       "</style>\n",
       "<table border=\"1\" class=\"dataframe\">\n",
       "  <thead>\n",
       "    <tr style=\"text-align: right;\">\n",
       "      <th></th>\n",
       "      <th>X</th>\n",
       "      <th>Y</th>\n",
       "      <th>num_frase</th>\n",
       "    </tr>\n",
       "  </thead>\n",
       "  <tbody>\n",
       "    <tr>\n",
       "      <th>0</th>\n",
       "      <td>-0.131791</td>\n",
       "      <td>-0.222237</td>\n",
       "      <td>1</td>\n",
       "    </tr>\n",
       "    <tr>\n",
       "      <th>1</th>\n",
       "      <td>-0.169268</td>\n",
       "      <td>0.310583</td>\n",
       "      <td>2</td>\n",
       "    </tr>\n",
       "    <tr>\n",
       "      <th>2</th>\n",
       "      <td>-0.131791</td>\n",
       "      <td>-0.222237</td>\n",
       "      <td>3</td>\n",
       "    </tr>\n",
       "    <tr>\n",
       "      <th>3</th>\n",
       "      <td>-0.197948</td>\n",
       "      <td>0.551467</td>\n",
       "      <td>4</td>\n",
       "    </tr>\n",
       "    <tr>\n",
       "      <th>4</th>\n",
       "      <td>-0.131791</td>\n",
       "      <td>-0.222237</td>\n",
       "      <td>5</td>\n",
       "    </tr>\n",
       "    <tr>\n",
       "      <th>5</th>\n",
       "      <td>-0.131791</td>\n",
       "      <td>-0.222237</td>\n",
       "      <td>6</td>\n",
       "    </tr>\n",
       "    <tr>\n",
       "      <th>6</th>\n",
       "      <td>-0.131791</td>\n",
       "      <td>-0.222237</td>\n",
       "      <td>7</td>\n",
       "    </tr>\n",
       "    <tr>\n",
       "      <th>7</th>\n",
       "      <td>-0.168492</td>\n",
       "      <td>0.287372</td>\n",
       "      <td>8</td>\n",
       "    </tr>\n",
       "    <tr>\n",
       "      <th>8</th>\n",
       "      <td>-0.131791</td>\n",
       "      <td>-0.222237</td>\n",
       "      <td>9</td>\n",
       "    </tr>\n",
       "    <tr>\n",
       "      <th>9</th>\n",
       "      <td>-0.131791</td>\n",
       "      <td>-0.222237</td>\n",
       "      <td>10</td>\n",
       "    </tr>\n",
       "    <tr>\n",
       "      <th>10</th>\n",
       "      <td>-0.131791</td>\n",
       "      <td>-0.222237</td>\n",
       "      <td>11</td>\n",
       "    </tr>\n",
       "    <tr>\n",
       "      <th>11</th>\n",
       "      <td>-0.197341</td>\n",
       "      <td>0.536941</td>\n",
       "      <td>12</td>\n",
       "    </tr>\n",
       "    <tr>\n",
       "      <th>12</th>\n",
       "      <td>0.893690</td>\n",
       "      <td>0.045767</td>\n",
       "      <td>13</td>\n",
       "    </tr>\n",
       "    <tr>\n",
       "      <th>13</th>\n",
       "      <td>0.893690</td>\n",
       "      <td>0.045767</td>\n",
       "      <td>14</td>\n",
       "    </tr>\n",
       "  </tbody>\n",
       "</table>\n",
       "</div>"
      ],
      "text/plain": [
       "           X         Y  num_frase\n",
       "0  -0.131791 -0.222237          1\n",
       "1  -0.169268  0.310583          2\n",
       "2  -0.131791 -0.222237          3\n",
       "3  -0.197948  0.551467          4\n",
       "4  -0.131791 -0.222237          5\n",
       "5  -0.131791 -0.222237          6\n",
       "6  -0.131791 -0.222237          7\n",
       "7  -0.168492  0.287372          8\n",
       "8  -0.131791 -0.222237          9\n",
       "9  -0.131791 -0.222237         10\n",
       "10 -0.131791 -0.222237         11\n",
       "11 -0.197341  0.536941         12\n",
       "12  0.893690  0.045767         13\n",
       "13  0.893690  0.045767         14"
      ]
     },
     "execution_count": 12,
     "metadata": {},
     "output_type": "execute_result"
    }
   ],
   "source": [
    "pca = PCA(n_components=2)\n",
    "graficar = pca.fit_transform(tfidf_denso)\n",
    "\n",
    "# Crear un DataFrame para los resultados de PCA\n",
    "df_tfidf = pd.DataFrame(data=graficar, columns=['X', 'Y'])\n",
    "df_tfidf[\"num_frase\"] = range(1, 15)\n",
    "df_tfidf"
   ]
  },
  {
   "cell_type": "code",
   "execution_count": 13,
   "metadata": {},
   "outputs": [
    {
     "data": {
      "text/plain": [
       "Text(0.5, 1.0, 'Resultados usando tf-idf')"
      ]
     },
     "execution_count": 13,
     "metadata": {},
     "output_type": "execute_result"
    },
    {
     "data": {
      "image/png": "[encoded data removed]",
      "text/plain": [
       "<Figure size 1200x600 with 2 Axes>"
      ]
     },
     "metadata": {},
     "output_type": "display_data"
    }
   ],
   "source": [
    "fig, axs = plt.subplots(1, 2, figsize=(12, 6))\n",
    "\n",
    "sns.scatterplot(df_usando_spacy, x= 'X', y='Y', hue= 'num_frase', ax=axs[0])\n",
    "#.scatterplot(data=df_graficar, x='d1',y='d2',hue = 'num_frase')\n",
    "sns.scatterplot(df_tfidf, x= 'X', y='Y', hue= 'num_frase', ax=axs[1])\n",
    "\n",
    "axs[0].set_title('Resultados usando SpaCy')\n",
    "axs[1].set_title('Resultados usando tf-idf')"
   ]
  },
  {
   "cell_type": "markdown",
   "metadata": {},
   "source": [
    "Vemos que en este caso es mejor ocupar Spacy por verso que ocupar tf-idf, porque así se representan más versos que en el otro. "
   ]
  }
 ],
 "metadata": {
  "kernelspec": {
   "display_name": "Python 3",
   "language": "python",
   "name": "python3"
  },
  "language_info": {
   "codemirror_mode": {
    "name": "ipython",
    "version": 3
   },
   "file_extension": ".py",
   "mimetype": "text/x-python",
   "name": "python",
   "nbconvert_exporter": "python",
   "pygments_lexer": "ipython3",
   "version": "3.12.1"
  }
 },
 "nbformat": 4,
 "nbformat_minor": 2
}
