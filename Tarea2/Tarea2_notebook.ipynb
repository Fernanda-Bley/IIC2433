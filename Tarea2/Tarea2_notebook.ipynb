{
 "cells": [
  {
   "cell_type": "markdown",
   "metadata": {
    "id": "hG2KlHeBeUAJ"
   },
   "source": [
    "Pontificia Universidad Católica de Chile <br>\n",
    "Departamento de Ciencia de la Computación <br>\n",
    "IIC2433 - Minería de Datos <br>\n",
    "Segundo Semestre 2024\n",
    "<br>\n",
    "\n",
    "<h1><center>Tarea 2: Boosting </center></h1>\n",
    "        Fecha de entrega: 13 de septiembre de 2024 a las 20:00 hrs"
   ]
  },
  {
   "cell_type": "markdown",
   "metadata": {
    "id": "LIvj9rL5fN4B"
   },
   "source": [
    "# 1.1 Enunciado\n",
    "\n",
    "La meta de esta tarea es intentar subir el 0.48 de accuracy que nos dio el método de árboles de decisión para el caso de los helados. Como ya vimos que con ensamblajes ya no funcionó, vamos a usar **boosting**.\n",
    "\n",
    "\n",
    "\n",
    "**IMPORTANTE**:\n",
    "\n",
    "- Esta tarea es **individual**, se entrega como un notebook con todas las celdas corridas. Cualquier instancia de copia resultará en un 1,1 como nota de curso.\n",
    "\n",
    "- La fecha de entrega de la tarea es el Viernes 13 de Septiembre, a las 20:00 hrs.\n",
    "\n",
    "---\n"
   ]
  },
  {
   "cell_type": "markdown",
   "metadata": {
    "id": "yHqZ3SM9gDwz"
   },
   "source": [
    "## Librerías"
   ]
  },
  {
   "cell_type": "code",
   "execution_count": null,
   "metadata": {
    "id": "T1PHn1-5GCeL"
   },
   "outputs": [],
   "source": [
    "# Aqui puedes cargar las librerias a utilizar\n",
    "\n",
    "\n",
    "\n",
    "\n"
   ]
  },
  {
   "cell_type": "markdown",
   "metadata": {},
   "source": [
    "# Cargando datos"
   ]
  },
  {
   "cell_type": "code",
   "execution_count": null,
   "metadata": {},
   "outputs": [],
   "source": []
  },
  {
   "cell_type": "markdown",
   "metadata": {
    "id": "YmLsgB89gVBt"
   },
   "source": [
    "# 1.2. Primer boosting"
   ]
  },
  {
   "cell_type": "markdown",
   "metadata": {
    "id": "FoQmg-OOgh33"
   },
   "source": [
    "### 1.2.1  Genera un train/test split con un 30 % de datos de test y un 70 % en el entrenamiento."
   ]
  },
  {
   "cell_type": "code",
   "execution_count": null,
   "metadata": {
    "id": "WS3zmagyhPNj"
   },
   "outputs": [],
   "source": []
  },
  {
   "cell_type": "markdown",
   "metadata": {
    "id": "ZMXHhxh4hjM0"
   },
   "source": [
    "### 1.2.2  Entrena un clasificador de árbol de decisión sobre los datos de entrenamiento como lo vimos en clases, llamémoslo **clf**.\n",
    "\n",
    "Comprueba que el accuracy para los datos de test sigue siendo 0.48 o menor."
   ]
  },
  {
   "cell_type": "code",
   "execution_count": null,
   "metadata": {
    "id": "loHil_iAhi34"
   },
   "outputs": [],
   "source": []
  },
  {
   "cell_type": "markdown",
   "metadata": {
    "id": "DNF_1ybDiC2u"
   },
   "source": [
    "### 1.2.3  Recuerda que podemos usar **clf.predict proba** para obtener las probabilidades de clasificar cada instancia.\n",
    "\n",
    "Define entonces el error *e* como *e[i] = y[i] - proba[i]*, donde y es el vector que contiene las clases correctas de los datos de entrenamiento, y proba[i] es la segunda componente del i-esimo elemento del vector que resulta al llamar a **clf.predict proba** con los datos de entrenamiento."
   ]
  },
  {
   "cell_type": "code",
   "execution_count": null,
   "metadata": {
    "id": "qfZ5cQ4Ch16_"
   },
   "outputs": [],
   "source": []
  },
  {
   "cell_type": "markdown",
   "metadata": {
    "id": "jOjBwVDQjH16"
   },
   "source": [
    "### 1.2.4 Entrena un árbol de regresión.\n",
    "\n",
    "Usando la clase **DecisionTreeRegressor** de **sklearn.tree**, de forma\n",
    "que pueda predecir el vector *e* a partir de los datos de entrenamiento. Llamemoslo **clf boost**"
   ]
  },
  {
   "cell_type": "code",
   "execution_count": null,
   "metadata": {
    "id": "LrvAbFuGjFom"
   },
   "outputs": [],
   "source": []
  },
  {
   "cell_type": "markdown",
   "metadata": {
    "id": "vDU8QsUDkC5m"
   },
   "source": [
    "### 1.2.5 Define un nuevo clasificador que clasifique a una entrada como un 1 si el promedio del resultado de **clf** y clf boost es mayor o igual a 0.5, y como 0 en otro caso."
   ]
  },
  {
   "cell_type": "code",
   "execution_count": null,
   "metadata": {
    "id": "fvhioRhzh193"
   },
   "outputs": [],
   "source": []
  },
  {
   "cell_type": "markdown",
   "metadata": {
    "id": "fK6ke5wqkdl9"
   },
   "source": [
    "### 1.2.6 Prueba el accuracy de este clasificador al usar el set de test. ¿Es mejor?"
   ]
  },
  {
   "cell_type": "code",
   "execution_count": null,
   "metadata": {
    "id": "VhsiQYKEkZvS"
   },
   "outputs": [],
   "source": []
  },
  {
   "cell_type": "markdown",
   "metadata": {
    "id": "-LQ7zp8qktaj"
   },
   "source": [
    "# 1.3. Segundo boosting\n",
    "\n",
    "#### Vuelve a entrenar ahora un tercer clasificador, **DecisionTreeRegressor**, ahora sobre el error definido como la diferencia entre *e* y el resultado de **clf boost**, tal y como lo hiciste en la sección anterior. Verifica si logras subir o no el accuracy más allá de lo logrado en la sección anterior."
   ]
  },
  {
   "cell_type": "code",
   "execution_count": null,
   "metadata": {
    "id": "CbN1k8cWlzND"
   },
   "outputs": [],
   "source": []
  },
  {
   "cell_type": "markdown",
   "metadata": {
    "id": "qNOs7YoZlW0u"
   },
   "source": [
    "# 1.4. ¡Cuidado con las métricas!\n",
    "\n",
    "#### Mira ahora el score f1 de lo que has hecho. Examina un poco mejor para ver por qué (en este caso) el boosting resultó en un mal clasificador.\n",
    "\n"
   ]
  },
  {
   "cell_type": "code",
   "execution_count": null,
   "metadata": {
    "id": "7AtLANhRlzs_"
   },
   "outputs": [],
   "source": []
  }
 ],
 "metadata": {
  "colab": {
   "provenance": []
  },
  "kernelspec": {
   "display_name": "Python 3 (ipykernel)",
   "language": "python",
   "name": "python3"
  },
  "language_info": {
   "codemirror_mode": {
    "name": "ipython",
    "version": 3
   },
   "file_extension": ".py",
   "mimetype": "text/x-python",
   "name": "python",
   "nbconvert_exporter": "python",
   "pygments_lexer": "ipython3",
   "version": "3.9.19"
  }
 },
 "nbformat": 4,
 "nbformat_minor": 4
}
